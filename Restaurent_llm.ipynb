{
 "cells": [
  {
   "cell_type": "code",
   "execution_count": 1,
   "id": "22286041",
   "metadata": {},
   "outputs": [],
   "source": [
    "# import necessary libraries\n",
    "import json\n",
    "from pathlib import Path\n",
    "from langchain.agents import create_json_agent\n",
    "from langchain_community.agent_toolkits import JsonToolkit\n",
    "from langchain_community.llms.openai import OpenAI\n",
    "from langchain_community.tools.json.tool import JsonSpec\n",
    "from pprint import pprint\n",
    "from langchain_core.runnables import RunnableLambda\n",
    "from langchain_core.output_parsers import StrOutputParser\n",
    "import ast"
   ]
  },
  {
   "cell_type": "markdown",
   "id": "86e4d16b",
   "metadata": {},
   "source": [
    "# 1.READ THE JSON FILE"
   ]
  },
  {
   "cell_type": "code",
   "execution_count": 2,
   "id": "3deef426",
   "metadata": {},
   "outputs": [
    {
     "name": "stdout",
     "output_type": "stream",
     "text": [
      "{'breakfast': [{'availability': '7am - 11am',\n",
      "                'description': 'Poached eggs on toasted English muffins with '\n",
      "                               'Canadian bacon and hollandaise sauce.',\n",
      "                'ingredients': ['Eggs',\n",
      "                                'English muffin',\n",
      "                                'Canadian bacon',\n",
      "                                'Hollandaise sauce'],\n",
      "                'name': 'Classic Eggs Benedict',\n",
      "                'options': ['Gluten-free muffin', 'Turkey bacon'],\n",
      "                'price': 12.99},\n",
      "               {'availability': '7am - 11am',\n",
      "                'description': 'Fluffy pancakes filled with fresh blueberries, '\n",
      "                               'served with maple syrup and whipped cream.',\n",
      "                'ingredients': ['Flour',\n",
      "                                'Blueberries',\n",
      "                                'Eggs',\n",
      "                                'Milk',\n",
      "                                'Maple syrup',\n",
      "                                'Whipped cream'],\n",
      "                'name': 'Blueberry Pancakes',\n",
      "                'options': ['Add banana', 'Chocolate chips'],\n",
      "                'price': 10.5}],\n",
      " 'coffee': [{'availability': 'All day',\n",
      "             'description': 'Rich and bold espresso, freshly brewed.',\n",
      "             'ingredients': ['Espresso'],\n",
      "             'name': 'Espresso',\n",
      "             'options': ['Double shot', 'With milk'],\n",
      "             'price': 3.0},\n",
      "            {'availability': 'All day',\n",
      "             'description': 'Espresso with steamed milk and a layer of frothy '\n",
      "                            'foam.',\n",
      "             'ingredients': ['Espresso', 'Milk', 'Foam'],\n",
      "             'name': 'Cappuccino',\n",
      "             'options': ['Vanilla flavor', 'Cinnamon'],\n",
      "             'price': 4.5}],\n",
      " 'drinks': [{'availability': 'All day',\n",
      "             'description': 'Refreshing iced tea brewed with a hint of lemon.',\n",
      "             'ingredients': ['Tea', 'Lemon'],\n",
      "             'name': 'Iced Tea',\n",
      "             'options': ['Sweetened', 'Unsweetened'],\n",
      "             'price': 3.5},\n",
      "            {'availability': 'All day',\n",
      "             'description': 'Homemade lemonade made with fresh lemons and '\n",
      "                            'sugar.',\n",
      "             'ingredients': ['Lemons', 'Sugar', 'Water'],\n",
      "             'name': 'Fresh Lemonade',\n",
      "             'options': ['Add mint', 'Add strawberry'],\n",
      "             'price': 4.0}],\n",
      " 'main_course': [{'availability': '11am - 10pm',\n",
      "                  'description': 'Fresh salmon fillet, grilled to perfection, '\n",
      "                                 'served with steamed vegetables and lemon '\n",
      "                                 'butter sauce.',\n",
      "                  'ingredients': ['Salmon fillet',\n",
      "                                  'Vegetables',\n",
      "                                  'Lemon',\n",
      "                                  'Butter'],\n",
      "                  'name': 'Grilled Salmon',\n",
      "                  'options': ['Extra lemon butter', 'Gluten-free'],\n",
      "                  'price': 18.99},\n",
      "                 {'availability': '11am - 10pm',\n",
      "                  'description': 'Layers of pasta with roasted vegetables, '\n",
      "                                 'ricotta, and marinara sauce, topped with '\n",
      "                                 'mozzarella cheese.',\n",
      "                  'ingredients': ['Pasta',\n",
      "                                  'Roasted vegetables',\n",
      "                                  'Ricotta',\n",
      "                                  'Marinara sauce',\n",
      "                                  'Mozzarella'],\n",
      "                  'name': 'Vegetarian Lasagna',\n",
      "                  'options': ['Vegan cheese', 'Add chicken'],\n",
      "                  'price': 15.5}],\n",
      " 'starters': [{'availability': 'All day',\n",
      "               'description': 'Toasted baguette slices topped with fresh '\n",
      "                              'tomatoes, basil, garlic, and olive oil.',\n",
      "               'ingredients': ['Baguette',\n",
      "                               'Tomatoes',\n",
      "                               'Basil',\n",
      "                               'Garlic',\n",
      "                               'Olive oil'],\n",
      "               'name': 'Bruschetta',\n",
      "               'options': ['Add mozzarella', 'Gluten-free baguette'],\n",
      "               'price': 7.99},\n",
      "              {'availability': 'All day',\n",
      "               'description': 'Crispy chicken wings tossed in your choice of '\n",
      "                              'sauce.',\n",
      "               'ingredients': ['Chicken wings', 'Sauce'],\n",
      "               'name': 'Chicken Wings',\n",
      "               'options': ['Buffalo sauce', 'BBQ sauce', 'Honey mustard'],\n",
      "               'price': 9.99}]}\n"
     ]
    }
   ],
   "source": [
    "# read json file\n",
    "file_path=\"restaurant_menu.json\"\n",
    "data=json.loads(Path(file_path).read_text())\n",
    "pprint(data)"
   ]
  },
  {
   "cell_type": "code",
   "execution_count": 3,
   "id": "b7fe60d1",
   "metadata": {},
   "outputs": [],
   "source": [
    "openai_api_key=\"\""
   ]
  },
  {
   "cell_type": "markdown",
   "id": "1b7093da",
   "metadata": {},
   "source": [
    "# 2.CREATE JSON AGENT EXCUTOR"
   ]
  },
  {
   "cell_type": "code",
   "execution_count": 4,
   "id": "9a3f39b4",
   "metadata": {},
   "outputs": [],
   "source": [
    "with open(\"restaurant_menu.json\",'r') as f:\n",
    "    data = json.load(f)\n",
    "json_spec = JsonSpec(dict_=data, max_value_length=4000)\n",
    "json_toolkit = JsonToolkit(spec=json_spec)\n",
    "\n",
    "json_agent_executor = create_json_agent(\n",
    "    llm=OpenAI(openai_api_key=openai_api_key,temperature=0), toolkit=json_toolkit, verbose=False\n",
    ")"
   ]
  },
  {
   "cell_type": "code",
   "execution_count": 5,
   "id": "0b913cfe",
   "metadata": {},
   "outputs": [
    {
     "data": {
      "text/plain": [
       "\"[{'name': 'Espresso', 'description': 'Rich and bold espresso, freshly brewed.', 'price': 3.0, 'ingredients': ['Espresso'], 'options': ['Double shot', 'With milk'], 'availability': 'All day'}, {'name': 'Cappuccino', 'description': 'Espresso with steamed milk and a layer of frothy foam.', 'price': 4.5, 'ingredients': ['Espresso', 'Milk', 'Foam'], 'options': ['Vanilla flavor', 'Cinnamon'], 'availability': 'All day'}]\""
      ]
     },
     "execution_count": 5,
     "metadata": {},
     "output_type": "execute_result"
    }
   ],
   "source": [
    "json_agent_executor.run(\"what are the available coffee you have\")"
   ]
  },
  {
   "cell_type": "markdown",
   "id": "974fdf3f",
   "metadata": {},
   "source": [
    "# 3. CREATED MENU CHAIN TO RETURN ITEM NAME & PRICE "
   ]
  },
  {
   "cell_type": "code",
   "execution_count": 6,
   "id": "e861f0b4",
   "metadata": {},
   "outputs": [],
   "source": [
    "# create a chatbot that connect with your json_agent_executer\n",
    "\n",
    "from langchain.prompts import PromptTemplate\n",
    "from langchain_community.chat_models import ChatOpenAI\n",
    "from langchain_core.output_parsers import StrOutputParser"
   ]
  },
  {
   "cell_type": "code",
   "execution_count": 7,
   "id": "33897e2f",
   "metadata": {},
   "outputs": [],
   "source": [
    "# Create a function to connect with json agent\n",
    "def check__menu(type_prompt: str) -> str:\n",
    "    response=json_agent_executor.run(type_prompt)\n",
    "    return response\n",
    "runnable_1 = RunnableLambda(check__menu)\n",
    "\n",
    "parser=StrOutputParser()"
   ]
  },
  {
   "cell_type": "code",
   "execution_count": 8,
   "id": "f7efdfc2",
   "metadata": {},
   "outputs": [],
   "source": [
    "menu_chain= (\n",
    "    PromptTemplate.from_template(\n",
    "        \"\"\"List all the available {item} . return name and their prices available in the menu\"\"\"\n",
    "    )\n",
    "    | runnable_1|parser\n",
    ")"
   ]
  },
  {
   "cell_type": "code",
   "execution_count": 9,
   "id": "19f1b918",
   "metadata": {},
   "outputs": [
    {
     "data": {
      "text/plain": [
       "\"[{'name': 'Espresso', 'description': 'Rich and bold espresso, freshly brewed.', 'price': 3.0, 'ingredients': ['Espresso'], 'options': ['Double shot', 'With milk'], 'availability': 'All day'}, {'name': 'Cappuccino', 'description': 'Espresso with steamed milk and a layer of frothy foam.', 'price': 4.5, 'ingredients': ['Espresso', 'Milk', 'Foam'], 'options': ['Vanilla flavor', 'Cinnamon'], 'availability': 'All day'}]\""
      ]
     },
     "execution_count": 9,
     "metadata": {},
     "output_type": "execute_result"
    }
   ],
   "source": [
    "json_agent_executor.run(\"what are the available coffee you have\")"
   ]
  },
  {
   "cell_type": "code",
   "execution_count": 10,
   "id": "ec5ac598",
   "metadata": {},
   "outputs": [
    {
     "data": {
      "text/plain": [
       "'Espresso - $3.0, Cappuccino - $4.5'"
      ]
     },
     "execution_count": 10,
     "metadata": {},
     "output_type": "execute_result"
    }
   ],
   "source": [
    "menu_chain.invoke({'item':'coffee'})"
   ]
  },
  {
   "cell_type": "markdown",
   "id": "371d3114",
   "metadata": {},
   "source": [
    "# 4. CREATED INGREDIANT CHAIN TO RETURN THE PRESENCE"
   ]
  },
  {
   "cell_type": "code",
   "execution_count": 11,
   "id": "26eccb07",
   "metadata": {},
   "outputs": [],
   "source": [
    "runnable_ingredient = RunnableLambda(check__menu)\n",
    "\n",
    "ingrediants_chain=(PromptTemplate.from_template(\n",
    "        \"\"\"check if the {ingredient_to_check} is present in {food_item}. respond ingredient is present or ingredient is adsent to user\"\"\"\n",
    "    )\n",
    "    | runnable_ingredient|parser\n",
    ")"
   ]
  },
  {
   "cell_type": "code",
   "execution_count": 12,
   "id": "84b86904",
   "metadata": {},
   "outputs": [
    {
     "data": {
      "text/plain": [
       "'ingredient is present'"
      ]
     },
     "execution_count": 12,
     "metadata": {},
     "output_type": "execute_result"
    }
   ],
   "source": [
    "ingrediants_chain.invoke({'food_item':'Vegetarian Lasagna','ingredient_to_check':'Ricotta'})"
   ]
  },
  {
   "cell_type": "markdown",
   "id": "75264b3b",
   "metadata": {},
   "source": [
    "# 5. CREATED A CLASSIFICATION CHAIN TO CLASSIFY THE REQUEST"
   ]
  },
  {
   "cell_type": "code",
   "execution_count": 13,
   "id": "e685c1fc",
   "metadata": {},
   "outputs": [],
   "source": [
    "runnable_general = RunnableLambda(check__menu)\n",
    "chain = (\n",
    "    PromptTemplate.from_template(\n",
    "        \"\"\"Given the user question below, classify it as being about 'breakfast','coffee','main_course','starters','drinks',`ingrediants`,'other'.\n",
    "\n",
    "Do not respond with more than one word.\n",
    "\n",
    "{question}\n",
    "\n",
    "Classification:\"\"\"\n",
    "    )\n",
    "    | runnable_general|StrOutputParser()\n",
    ")"
   ]
  },
  {
   "cell_type": "markdown",
   "id": "ee41f677",
   "metadata": {},
   "source": [
    "# 6. CREATED A GENERAL CHAIN TO RESPOND TO USER QUESTION"
   ]
  },
  {
   "cell_type": "code",
   "execution_count": 14,
   "id": "c108532f",
   "metadata": {},
   "outputs": [],
   "source": [
    "#general chain\n",
    "runnable_general = RunnableLambda(check__menu)\n",
    "general_chain=(PromptTemplate.from_template(\n",
    "        \"\"\"You have restaurent menu, Respond to user question {question}.\"\"\"\n",
    "    )\n",
    "    |runnable_general|parser\n",
    ")"
   ]
  },
  {
   "cell_type": "markdown",
   "id": "5185f1a8",
   "metadata": {},
   "source": [
    "# 7. CREATED A RUNNABLE BRANCH TO ROUTE TO DIFFERENT CHAIN"
   ]
  },
  {
   "cell_type": "code",
   "execution_count": 15,
   "id": "d4616dcf",
   "metadata": {},
   "outputs": [],
   "source": [
    "from langchain_core.runnables import RunnableBranch\n",
    "\n",
    "\n",
    "lambda x: any(keyword in x[\"topic\"].lower() for keyword in [\"breakfast\", \"drink\"])\n",
    "\n",
    "branch = RunnableBranch(\n",
    "    (lambda x: any(val in x[\"topic\"].lower() for val in ['breakfast','coffee','main_course','starters','drinks']), menu_chain),\n",
    "    (lambda x: \"ingrediants\" in x[\"topic\"].lower(), ingrediants_chain),\n",
    "    general_chain\n",
    ")"
   ]
  },
  {
   "cell_type": "code",
   "execution_count": 16,
   "id": "6eb22909",
   "metadata": {},
   "outputs": [],
   "source": [
    "full_chain = {\"topic\": chain, \"question\": lambda x: x[\"question\"],\"item\":lambda x: x[\"item\"] } | branch"
   ]
  },
  {
   "cell_type": "code",
   "execution_count": 17,
   "id": "8cbff1cb",
   "metadata": {},
   "outputs": [],
   "source": [
    "#full_chain.invoke({\"question\": \"what are the names of breakfast?\"})"
   ]
  },
  {
   "cell_type": "code",
   "execution_count": 18,
   "id": "149d8331",
   "metadata": {},
   "outputs": [
    {
     "data": {
      "text/plain": [
       "\"[{'name': 'Classic Eggs Benedict', 'price': 12.99}, {'name': 'Blueberry Pancakes', 'price': 10.5}]\""
      ]
     },
     "execution_count": 18,
     "metadata": {},
     "output_type": "execute_result"
    }
   ],
   "source": [
    "full_chain.invoke({\n",
    "    \"topic\": \"\",\n",
    "    \"item\": \"breakfast\",\n",
    "    \"question\": \"what are the names of breakfast?\"\n",
    "})"
   ]
  },
  {
   "cell_type": "code",
   "execution_count": 19,
   "id": "9c851673",
   "metadata": {},
   "outputs": [],
   "source": [
    "full_chain = {\"topic\": chain, \"question\": lambda x: x[\"question\"]} | branch"
   ]
  },
  {
   "cell_type": "code",
   "execution_count": 25,
   "id": "1822a7cd",
   "metadata": {},
   "outputs": [
    {
     "data": {
      "text/plain": [
       "'Yes, Classic Eggs Benedict has the ingredient Eggs.'"
      ]
     },
     "execution_count": 25,
     "metadata": {},
     "output_type": "execute_result"
    }
   ],
   "source": [
    "full_chain.invoke({\n",
    "    \"topic\": \"\",\n",
    "    \"food_item\": \"Classic Eggs Benedict\",\n",
    "    \"ingredient_to_check\": \"Eggs\",\n",
    "    \"question\": \"is Classic Eggs Benedict have ingredient Eggs?\"\n",
    "})"
   ]
  },
  {
   "cell_type": "code",
   "execution_count": 30,
   "id": "2b2a0c70",
   "metadata": {},
   "outputs": [
    {
     "data": {
      "text/plain": [
       "'Yes, Classic Eggs Benedict has the ingredient Eggs.'"
      ]
     },
     "execution_count": 30,
     "metadata": {},
     "output_type": "execute_result"
    }
   ],
   "source": [
    "full_chain.invoke({\n",
    "    \"topic\": \"\",\n",
    "    \"food_item\": \"Classic Eggs Benedict\",\n",
    "    \"ingredient_to_check\": \"Eggs\",\n",
    "    \"question\": \"is Classic Eggs Benedict have ingredient Eggs?\"\n",
    "})"
   ]
  },
  {
   "cell_type": "code",
   "execution_count": null,
   "id": "c32fce41",
   "metadata": {},
   "outputs": [],
   "source": []
  }
 ],
 "metadata": {
  "kernelspec": {
   "display_name": "Python 3 (ipykernel)",
   "language": "python",
   "name": "python3"
  },
  "language_info": {
   "codemirror_mode": {
    "name": "ipython",
    "version": 3
   },
   "file_extension": ".py",
   "mimetype": "text/x-python",
   "name": "python",
   "nbconvert_exporter": "python",
   "pygments_lexer": "ipython3",
   "version": "3.11.5"
  }
 },
 "nbformat": 4,
 "nbformat_minor": 5
}
